{
  "nbformat": 4,
  "nbformat_minor": 0,
  "metadata": {
    "colab": {
      "provenance": [],
      "toc_visible": true
    },
    "kernelspec": {
      "name": "python3",
      "display_name": "Python 3"
    },
    "language_info": {
      "name": "python"
    },
    "accelerator": "TPU"
  },
  "cells": [
    {
      "cell_type": "markdown",
      "source": [
        "\n",
        "\n",
        "# First Model"
      ],
      "metadata": {
        "id": "W1Mn_Z0g69Ei"
      }
    },
    {
      "cell_type": "markdown",
      "source": [],
      "metadata": {
        "id": "9HLjMnQj-g9f"
      }
    },
    {
      "cell_type": "markdown",
      "source": [
        "**RICE Pest Multi Classification Model. Using Muiltiple Features From the Dataset, the model can make predictions on rice to Identify If it has pests and what pest it is likely to be.**"
      ],
      "metadata": {
        "id": "m2q-RDyO-mKs"
      }
    },
    {
      "cell_type": "code",
      "execution_count": 1,
      "metadata": {
        "colab": {
          "base_uri": "https://localhost:8080/"
        },
        "id": "9uSPh5nBLa61",
        "outputId": "1ee9e344-07d5-490c-b38f-0aec7ab78a54"
      },
      "outputs": [
        {
          "output_type": "stream",
          "name": "stdout",
          "text": [
            "Index(['Pest Value', 'MaxT', 'MinT', 'RH1(%)', 'RH2(%)', 'RF(mm)', 'WS(kmph)',\n",
            "       'SSH(hrs)', 'EVP(mm)', 'PEST NAME'],\n",
            "      dtype='object')\n"
          ]
        }
      ],
      "source": [
        "import sys, numpy as np\n",
        "import pandas as pd\n",
        "import os\n",
        "import warnings\n",
        "import tensorflow as tf\n",
        "from sklearn.model_selection import train_test_split\n",
        "from tensorflow.keras.layers import Input, Dense, Dropout, GlobalAveragePooling1D\n",
        "from tensorflow.keras.models import Model\n",
        "from tensorflow.keras.optimizers import Adam\n",
        "from tensorflow.keras import Sequential\n",
        "from tensorflow.keras.preprocessing.text import Tokenizer\n",
        "from tensorflow.keras.preprocessing.sequence import pad_sequences\n",
        "from tensorflow.keras.wrappers.scikit_learn import KerasClassifier\n",
        "from sklearn.preprocessing import LabelEncoder, OneHotEncoder, MinMaxScaler\n",
        "from numpy import argmax\n",
        "\n",
        "os.environ['TF_CPP_MIN_LOG_LEVEL'] = '2'\n",
        "warnings.filterwarnings('ignore')\n",
        "\n",
        "df= pd.read_csv('https://raw.githubusercontent.com/Russoremy/Datasets/main/RICE.csv')\n",
        "\n",
        "df.drop(['Observation Year','Standard Week','Collection Type','Location'], axis=1, inplace=True)\n",
        "print(df.columns)\n"
      ]
    },
    {
      "cell_type": "code",
      "source": [
        "X = df.drop('PEST NAME', axis=1)\n",
        "y = df['PEST NAME']"
      ],
      "metadata": {
        "id": "4w7Mw8aO1gyo"
      },
      "execution_count": 2,
      "outputs": []
    },
    {
      "cell_type": "code",
      "source": [
        "import numpy as np\n",
        "import sys\n",
        "from sklearn.model_selection import train_test_split\n",
        "from sklearn.preprocessing import MinMaxScaler, LabelEncoder\n",
        "\n",
        "# Split Data we are using a different data set than the one Dr. Lee used and it contains no images\n",
        "X_train, X_test, y_train, y_test = train_test_split(X, y, test_size=0.33)\n",
        "\n",
        "# Normalize numerical features using MinMaxScaler\n",
        "numerical_features = ['Pest Value', 'MaxT', 'MinT', 'RH1(%)', 'RH2(%)', 'RF(mm)', 'WS(kmph)', 'SSH(hrs)', 'EVP(mm)']\n",
        "scaler = MinMaxScaler()\n",
        "X_train_numerical = scaler.fit_transform(X_train[numerical_features])\n",
        "X_test_numerical = scaler.transform(X_test[numerical_features])\n",
        "\n",
        "# Concatenate categorical and numerical features\n",
        "X_train = np.concatenate([X_train_numerical], axis=1)\n",
        "X_test = np.concatenate([X_test_numerical], axis=1)\n",
        "\n",
        "# Target Encoding\n",
        "encoder = LabelEncoder()\n",
        "\n",
        "# Fit and transform the target variable\n",
        "y_train_encoded = encoder.fit_transform(y_train)\n",
        "y_test_encoded = encoder.transform(y_test)\n",
        "\n",
        "# Reshape target variable to match the input shape\n",
        "y_train = y_train_encoded.reshape(-1, 1)\n",
        "y_test = y_test_encoded.reshape(-1, 1)\n",
        "\n",
        "relu = lambda x: (x >= 0) * x\n",
        "relu2deriv = lambda x: x >= 0\n",
        "batch_size = 100\n",
        "alpha, iterations, hidden_size, input_size = (0.001, 300, 40, X_train.shape[1])\n",
        "\n",
        "weights_0_1 = 0.2 * np.random.random((input_size, hidden_size)) - 0.1\n",
        "weights_1_2 = 0.2 * np.random.random((hidden_size, y_train.shape[1])) - 0.1\n",
        "\n",
        "for j in range(iterations):\n",
        "    error, correct_cnt = (0.0, 0)\n",
        "\n",
        "    for i in range(len(X_train)):\n",
        "        layer_0 = X_train[i:i+1]\n",
        "        layer_1 = relu(np.dot(layer_0, weights_0_1))\n",
        "        layer_2 = np.dot(layer_1, weights_1_2)\n",
        "\n",
        "        error += np.sum((y_train[i:i+1] - layer_2) ** 2)\n",
        "        correct_cnt += int(np.argmax(layer_2) == np.argmax(y_train[i:i+1]))\n",
        "\n",
        "        layer_2_delta = (y_train[i:i+1] - layer_2)\n",
        "        layer_1_delta = layer_2_delta.dot(weights_1_2.T) * relu2deriv(layer_1)\n",
        "        weights_1_2 += alpha * layer_1.T.dot(layer_2_delta)\n",
        "        weights_0_1 += alpha * layer_0.T.dot(layer_1_delta)\n",
        "\n",
        "    sys.stdout.write(\"\\r I:\" + str(j) +\n",
        "                     \" Train-Err:\" + str(error / float(len(X_train)))[0:5] +\\\n",
        "                     \" Train-Acc:\" + str(correct_cnt / float(len(X_train))))\n",
        "\n",
        "\n",
        "if(j % 10 == 0 or j == iterations-1):\n",
        "    error, correct_cnt = (0.0, 0)\n",
        "\n",
        "    for i in range(len(X_test)):\n",
        "\n",
        "        layer_0 = X_test[i:i+1]\n",
        "        layer_1 = relu(np.dot(layer_0,weights_0_1))\n",
        "        layer_2 = np.dot(layer_1,weights_1_2)\n",
        "\n",
        "        error += np.sum((y_test[i:i+1] - layer_2) ** 2)\n",
        "        correct_cnt += int(np.argmax(layer_2) == \\\n",
        "                                        np.argmax(y_test[i:i+1]))\n",
        "    sys.stdout.write(\" Test-Err:\" + str(error/float(len(X_test)))[0:5] +\\\n",
        "                     \" Test-Acc:\" + str(correct_cnt/float(len(X_test))) + \"\\n\")\n",
        "    print()\n",
        "\n",
        "    #The part I am stuck in and slighty confused with this type of example you showed is how I can tune it an reduce the error.\n",
        "    #I also believe the keras models are more simple and efficient but this allow for more customization for tunning. Which one is better practice?\n"
      ],
      "metadata": {
        "colab": {
          "base_uri": "https://localhost:8080/"
        },
        "id": "ag1GqYoi1isT",
        "outputId": "4c35231b-976e-489c-b1cf-339ced1378e4"
      },
      "execution_count": 3,
      "outputs": [
        {
          "output_type": "stream",
          "name": "stdout",
          "text": [
            " I:299 Train-Err:10.31 Train-Acc:1.0 Test-Err:10.21 Test-Acc:1.0\n",
            "\n"
          ]
        }
      ]
    },
    {
      "cell_type": "markdown",
      "source": [
        "# Keras Model\n"
      ],
      "metadata": {
        "id": "QjDplTB37_6l"
      }
    },
    {
      "cell_type": "code",
      "source": [
        "import sys, numpy as np\n",
        "import pandas as pd\n",
        "import os\n",
        "import warnings\n",
        "import tensorflow as tf\n",
        "from sklearn.model_selection import train_test_split\n",
        "from tensorflow.keras.layers import Input, Dense, Dropout, GlobalAveragePooling1D\n",
        "from tensorflow.keras.models import Model\n",
        "from tensorflow.keras.optimizers import Adam\n",
        "from tensorflow.keras import Sequential\n",
        "from tensorflow.keras.preprocessing.text import Tokenizer\n",
        "from tensorflow.keras.preprocessing.sequence import pad_sequences\n",
        "from tensorflow.keras.wrappers.scikit_learn import KerasClassifier\n",
        "from sklearn.preprocessing import LabelEncoder, OneHotEncoder, MinMaxScaler\n",
        "from numpy import argmax\n",
        "\n",
        "os.environ['TF_CPP_MIN_LOG_LEVEL'] = '2'\n",
        "warnings.filterwarnings('ignore')\n",
        "\n",
        "df= pd.read_csv('https://raw.githubusercontent.com/Russoremy/Datasets/main/RICE.csv')\n",
        "\n",
        "df.drop(['Observation Year','Standard Week','Collection Type','Location'], axis=1, inplace=True)\n",
        "print(df.columns)"
      ],
      "metadata": {
        "colab": {
          "base_uri": "https://localhost:8080/"
        },
        "id": "5yNaV7aK8FeX",
        "outputId": "00013324-0831-4965-84c7-8f58a12709bf"
      },
      "execution_count": null,
      "outputs": [
        {
          "output_type": "stream",
          "name": "stdout",
          "text": [
            "Index(['Pest Value', 'MaxT', 'MinT', 'RH1(%)', 'RH2(%)', 'RF(mm)', 'WS(kmph)',\n",
            "       'SSH(hrs)', 'EVP(mm)', 'PEST NAME'],\n",
            "      dtype='object')\n"
          ]
        }
      ]
    },
    {
      "cell_type": "code",
      "source": [
        "# Save the best model\n",
        "cb_checkpoint = tf.keras.callbacks.ModelCheckpoint(\n",
        "    filepath='model-{epoch:02d}-{val_accuracy:.2f}.hdf5',\n",
        "    monitor='val_accuracy',\n",
        "    mode='max',\n",
        "    save_best_only=True,\n",
        "    verbose=1\n",
        ")\n",
        "\n",
        "# Reduce learning rate if no improvement in val_loss\n",
        "cb_reducelr = tf.keras.callbacks.ReduceLROnPlateau(\n",
        "    monitor='val_loss',\n",
        "    mode='min',\n",
        "    factor=0.1,\n",
        "    patience=10,\n",
        "    verbose=1,\n",
        "    min_lr=0.00001\n",
        ")\n",
        "\n",
        "# Stop training if no improvement in val_accuracy\n",
        "cb_earlystop = tf.keras.callbacks.EarlyStopping(\n",
        "    monitor='val_accuracy',\n",
        "    mode='max',\n",
        "    min_delta=0.001,\n",
        "    patience=10,\n",
        "    verbose=1\n",
        ")\n",
        "\n",
        "# Save training history to CSV file\n",
        "cb_csvlogger = tf.keras.callbacks.CSVLogger(\n",
        "    filename='training_log.csv',\n",
        "    separator=',',\n",
        "    append=False\n",
        ")"
      ],
      "metadata": {
        "id": "hwgBmumIIUuW"
      },
      "execution_count": 7,
      "outputs": []
    },
    {
      "cell_type": "code",
      "source": [
        "# Split Data we are using a different data set than the one Dr. Lee used and it contains no images\n",
        "X_train, X_test, y_train, y_test = train_test_split(X, y, test_size=0.33)\n",
        "\n",
        "# Normalize numerical features using MinMaxScaler\n",
        "numerical_features = ['Pest Value', 'MaxT', 'MinT', 'RH1(%)', 'RH2(%)', 'RF(mm)', 'WS(kmph)', 'SSH(hrs)', 'EVP(mm)']\n",
        "scaler = MinMaxScaler()\n",
        "X_train_numerical = scaler.fit_transform(X_train[numerical_features])\n",
        "X_test_numerical = scaler.transform(X_test[numerical_features])\n",
        "\n",
        "# Concatenate categorical and numerical features\n",
        "X_train = np.concatenate([X_train_numerical], axis=1)\n",
        "X_test = np.concatenate([X_test_numerical], axis=1)\n",
        "\n",
        "# Target Encoding\n",
        "encoder = LabelEncoder()\n",
        "\n",
        "# Fit and transform the target variable\n",
        "y_train_encoded = encoder.fit_transform(y_train)\n",
        "y_test_encoded = encoder.transform(y_test)\n",
        "\n",
        "# Reshape target variable to match the input shape\n",
        "y_train = y_train_encoded.reshape(-1, 1)\n",
        "y_test = y_test_encoded.reshape(-1, 1)"
      ],
      "metadata": {
        "id": "WtXHJ2vv8eE0"
      },
      "execution_count": 8,
      "outputs": []
    },
    {
      "cell_type": "code",
      "source": [
        "# determine the number of input features\n",
        "n_features = X_train.shape[1]\n",
        "n_features"
      ],
      "metadata": {
        "colab": {
          "base_uri": "https://localhost:8080/"
        },
        "id": "aU6wqAyL8m5u",
        "outputId": "397c1b7a-b41e-4667-bf77-ade66da28ae1"
      },
      "execution_count": 5,
      "outputs": [
        {
          "output_type": "execute_result",
          "data": {
            "text/plain": [
              "9"
            ]
          },
          "metadata": {},
          "execution_count": 5
        }
      ]
    },
    {
      "cell_type": "code",
      "source": [
        "# define model\n",
        "model = Sequential()\n",
        "model.add(Dense(1, activation='relu', kernel_initializer='he_normal', input_shape=(n_features,)))\n",
        "model.add(Dense(1, activation='relu', kernel_initializer='he_normal'))\n",
        "model.add(Dense(1, activation='softmax'))\n",
        "\n",
        "# compile the model\n",
        "model.compile(optimizer='adam', loss='categorical_crossentropy', metrics=['accuracy'])\n",
        "\n",
        "# fit the model\n",
        "model.fit(X_train, y_train, epochs=100, batch_size=10, verbose=1)"
      ],
      "metadata": {
        "colab": {
          "base_uri": "https://localhost:8080/"
        },
        "id": "Ul2GCBmV8qRF",
        "outputId": "df8b1662-bcf5-4962-8ce5-8c58c9f53c93"
      },
      "execution_count": 6,
      "outputs": [
        {
          "output_type": "stream",
          "name": "stdout",
          "text": [
            "Epoch 1/100\n",
            "1300/1300 [==============================] - 3s 1ms/step - loss: 0.0000e+00 - accuracy: 0.0470\n",
            "Epoch 2/100\n",
            "1300/1300 [==============================] - 1s 1ms/step - loss: 0.0000e+00 - accuracy: 0.0470\n",
            "Epoch 3/100\n",
            "1300/1300 [==============================] - 1s 1ms/step - loss: 0.0000e+00 - accuracy: 0.0470\n",
            "Epoch 4/100\n",
            "1300/1300 [==============================] - 1s 1ms/step - loss: 0.0000e+00 - accuracy: 0.0470\n",
            "Epoch 5/100\n",
            "1300/1300 [==============================] - 1s 1ms/step - loss: 0.0000e+00 - accuracy: 0.0470\n",
            "Epoch 6/100\n",
            "1300/1300 [==============================] - 1s 1ms/step - loss: 0.0000e+00 - accuracy: 0.0470\n",
            "Epoch 7/100\n",
            "1300/1300 [==============================] - 1s 1ms/step - loss: 0.0000e+00 - accuracy: 0.0470\n",
            "Epoch 8/100\n",
            "1300/1300 [==============================] - 2s 2ms/step - loss: 0.0000e+00 - accuracy: 0.0470\n",
            "Epoch 9/100\n",
            "1300/1300 [==============================] - 2s 1ms/step - loss: 0.0000e+00 - accuracy: 0.0470\n",
            "Epoch 10/100\n",
            "1300/1300 [==============================] - 1s 1ms/step - loss: 0.0000e+00 - accuracy: 0.0470\n",
            "Epoch 11/100\n",
            "1300/1300 [==============================] - 1s 1ms/step - loss: 0.0000e+00 - accuracy: 0.0470\n",
            "Epoch 12/100\n",
            "1300/1300 [==============================] - 1s 1ms/step - loss: 0.0000e+00 - accuracy: 0.0470\n",
            "Epoch 13/100\n",
            "1300/1300 [==============================] - 1s 1ms/step - loss: 0.0000e+00 - accuracy: 0.0470\n",
            "Epoch 14/100\n",
            "1300/1300 [==============================] - 1s 1ms/step - loss: 0.0000e+00 - accuracy: 0.0470\n",
            "Epoch 15/100\n",
            "1300/1300 [==============================] - 1s 1ms/step - loss: 0.0000e+00 - accuracy: 0.0470\n",
            "Epoch 16/100\n",
            "1300/1300 [==============================] - 2s 1ms/step - loss: 0.0000e+00 - accuracy: 0.0470\n",
            "Epoch 17/100\n",
            "1300/1300 [==============================] - 2s 1ms/step - loss: 0.0000e+00 - accuracy: 0.0470\n",
            "Epoch 18/100\n",
            "1300/1300 [==============================] - 2s 1ms/step - loss: 0.0000e+00 - accuracy: 0.0470\n",
            "Epoch 19/100\n",
            "1300/1300 [==============================] - 1s 1ms/step - loss: 0.0000e+00 - accuracy: 0.0470\n",
            "Epoch 20/100\n",
            "1300/1300 [==============================] - 1s 1ms/step - loss: 0.0000e+00 - accuracy: 0.0470\n",
            "Epoch 21/100\n",
            "1300/1300 [==============================] - 1s 1ms/step - loss: 0.0000e+00 - accuracy: 0.0470\n",
            "Epoch 22/100\n",
            "1300/1300 [==============================] - 1s 1ms/step - loss: 0.0000e+00 - accuracy: 0.0470\n",
            "Epoch 23/100\n",
            "1300/1300 [==============================] - 1s 1ms/step - loss: 0.0000e+00 - accuracy: 0.0470\n",
            "Epoch 24/100\n",
            "1300/1300 [==============================] - 2s 1ms/step - loss: 0.0000e+00 - accuracy: 0.0470\n",
            "Epoch 25/100\n",
            "1300/1300 [==============================] - 2s 1ms/step - loss: 0.0000e+00 - accuracy: 0.0470\n",
            "Epoch 26/100\n",
            "1300/1300 [==============================] - 2s 2ms/step - loss: 0.0000e+00 - accuracy: 0.0470\n",
            "Epoch 27/100\n",
            "1300/1300 [==============================] - 1s 1ms/step - loss: 0.0000e+00 - accuracy: 0.0470\n",
            "Epoch 28/100\n",
            "1300/1300 [==============================] - 1s 1ms/step - loss: 0.0000e+00 - accuracy: 0.0470\n",
            "Epoch 29/100\n",
            "1300/1300 [==============================] - 1s 1ms/step - loss: 0.0000e+00 - accuracy: 0.0470\n",
            "Epoch 30/100\n",
            "1300/1300 [==============================] - 1s 1ms/step - loss: 0.0000e+00 - accuracy: 0.0470\n",
            "Epoch 31/100\n",
            "1300/1300 [==============================] - 2s 1ms/step - loss: 0.0000e+00 - accuracy: 0.0470\n",
            "Epoch 32/100\n",
            "1300/1300 [==============================] - 2s 1ms/step - loss: 0.0000e+00 - accuracy: 0.0470\n",
            "Epoch 33/100\n",
            "1300/1300 [==============================] - 4s 3ms/step - loss: 0.0000e+00 - accuracy: 0.0470\n",
            "Epoch 34/100\n",
            "1300/1300 [==============================] - 3s 2ms/step - loss: 0.0000e+00 - accuracy: 0.0470\n",
            "Epoch 35/100\n",
            "1300/1300 [==============================] - 1s 1ms/step - loss: 0.0000e+00 - accuracy: 0.0470\n",
            "Epoch 36/100\n",
            "1300/1300 [==============================] - 1s 1ms/step - loss: 0.0000e+00 - accuracy: 0.0470\n",
            "Epoch 37/100\n",
            "1300/1300 [==============================] - 1s 1ms/step - loss: 0.0000e+00 - accuracy: 0.0470\n",
            "Epoch 38/100\n",
            "1300/1300 [==============================] - 3s 2ms/step - loss: 0.0000e+00 - accuracy: 0.0470\n",
            "Epoch 39/100\n",
            "1300/1300 [==============================] - 3s 2ms/step - loss: 0.0000e+00 - accuracy: 0.0470\n",
            "Epoch 40/100\n",
            "1300/1300 [==============================] - 2s 2ms/step - loss: 0.0000e+00 - accuracy: 0.0470\n",
            "Epoch 41/100\n",
            "1300/1300 [==============================] - 2s 1ms/step - loss: 0.0000e+00 - accuracy: 0.0470\n",
            "Epoch 42/100\n",
            "1300/1300 [==============================] - 2s 1ms/step - loss: 0.0000e+00 - accuracy: 0.0470\n",
            "Epoch 43/100\n",
            "1300/1300 [==============================] - 2s 1ms/step - loss: 0.0000e+00 - accuracy: 0.0470\n",
            "Epoch 44/100\n",
            "1300/1300 [==============================] - 2s 1ms/step - loss: 0.0000e+00 - accuracy: 0.0470\n",
            "Epoch 45/100\n",
            "1300/1300 [==============================] - 2s 1ms/step - loss: 0.0000e+00 - accuracy: 0.0470\n",
            "Epoch 46/100\n",
            "1300/1300 [==============================] - 2s 1ms/step - loss: 0.0000e+00 - accuracy: 0.0470\n",
            "Epoch 47/100\n",
            "1300/1300 [==============================] - 3s 2ms/step - loss: 0.0000e+00 - accuracy: 0.0470\n",
            "Epoch 48/100\n",
            "1300/1300 [==============================] - 2s 2ms/step - loss: 0.0000e+00 - accuracy: 0.0470\n",
            "Epoch 49/100\n",
            "1300/1300 [==============================] - 2s 1ms/step - loss: 0.0000e+00 - accuracy: 0.0470\n",
            "Epoch 50/100\n",
            "1300/1300 [==============================] - 2s 1ms/step - loss: 0.0000e+00 - accuracy: 0.0470\n",
            "Epoch 51/100\n",
            "1300/1300 [==============================] - 2s 2ms/step - loss: 0.0000e+00 - accuracy: 0.0470\n",
            "Epoch 52/100\n",
            "1300/1300 [==============================] - 2s 1ms/step - loss: 0.0000e+00 - accuracy: 0.0470\n",
            "Epoch 53/100\n",
            "1300/1300 [==============================] - 2s 1ms/step - loss: 0.0000e+00 - accuracy: 0.0470\n",
            "Epoch 54/100\n",
            "1300/1300 [==============================] - 3s 2ms/step - loss: 0.0000e+00 - accuracy: 0.0470\n",
            "Epoch 55/100\n",
            "1300/1300 [==============================] - 2s 2ms/step - loss: 0.0000e+00 - accuracy: 0.0470\n",
            "Epoch 56/100\n",
            "1300/1300 [==============================] - 2s 2ms/step - loss: 0.0000e+00 - accuracy: 0.0470\n",
            "Epoch 57/100\n",
            "1300/1300 [==============================] - 1s 1ms/step - loss: 0.0000e+00 - accuracy: 0.0470\n",
            "Epoch 58/100\n",
            "1300/1300 [==============================] - 2s 1ms/step - loss: 0.0000e+00 - accuracy: 0.0470\n",
            "Epoch 59/100\n",
            "1300/1300 [==============================] - 2s 1ms/step - loss: 0.0000e+00 - accuracy: 0.0470\n",
            "Epoch 60/100\n",
            "1300/1300 [==============================] - 2s 2ms/step - loss: 0.0000e+00 - accuracy: 0.0470\n",
            "Epoch 61/100\n",
            "1300/1300 [==============================] - 2s 1ms/step - loss: 0.0000e+00 - accuracy: 0.0470\n",
            "Epoch 62/100\n",
            "1300/1300 [==============================] - 2s 1ms/step - loss: 0.0000e+00 - accuracy: 0.0470\n",
            "Epoch 63/100\n",
            "1300/1300 [==============================] - 2s 1ms/step - loss: 0.0000e+00 - accuracy: 0.0470\n",
            "Epoch 64/100\n",
            "1300/1300 [==============================] - 2s 1ms/step - loss: 0.0000e+00 - accuracy: 0.0470\n",
            "Epoch 65/100\n",
            "1300/1300 [==============================] - 2s 2ms/step - loss: 0.0000e+00 - accuracy: 0.0470\n",
            "Epoch 66/100\n",
            "1300/1300 [==============================] - 2s 1ms/step - loss: 0.0000e+00 - accuracy: 0.0470\n",
            "Epoch 67/100\n",
            "1300/1300 [==============================] - 2s 1ms/step - loss: 0.0000e+00 - accuracy: 0.0470\n",
            "Epoch 68/100\n",
            "1300/1300 [==============================] - 2s 1ms/step - loss: 0.0000e+00 - accuracy: 0.0470\n",
            "Epoch 69/100\n",
            "1300/1300 [==============================] - 2s 2ms/step - loss: 0.0000e+00 - accuracy: 0.0470\n",
            "Epoch 70/100\n",
            "1300/1300 [==============================] - 2s 1ms/step - loss: 0.0000e+00 - accuracy: 0.0470\n",
            "Epoch 71/100\n",
            "1300/1300 [==============================] - 1s 1ms/step - loss: 0.0000e+00 - accuracy: 0.0470\n",
            "Epoch 72/100\n",
            "1300/1300 [==============================] - 2s 2ms/step - loss: 0.0000e+00 - accuracy: 0.0470\n",
            "Epoch 73/100\n",
            "1300/1300 [==============================] - 2s 1ms/step - loss: 0.0000e+00 - accuracy: 0.0470\n",
            "Epoch 74/100\n",
            "1300/1300 [==============================] - 2s 1ms/step - loss: 0.0000e+00 - accuracy: 0.0470\n",
            "Epoch 75/100\n",
            "1300/1300 [==============================] - 2s 1ms/step - loss: 0.0000e+00 - accuracy: 0.0470\n",
            "Epoch 76/100\n",
            "1300/1300 [==============================] - 3s 2ms/step - loss: 0.0000e+00 - accuracy: 0.0470\n",
            "Epoch 77/100\n",
            "1300/1300 [==============================] - 2s 2ms/step - loss: 0.0000e+00 - accuracy: 0.0470\n",
            "Epoch 78/100\n",
            "1300/1300 [==============================] - 2s 1ms/step - loss: 0.0000e+00 - accuracy: 0.0470\n",
            "Epoch 79/100\n",
            "1300/1300 [==============================] - 2s 1ms/step - loss: 0.0000e+00 - accuracy: 0.0470\n",
            "Epoch 80/100\n",
            "1300/1300 [==============================] - 2s 1ms/step - loss: 0.0000e+00 - accuracy: 0.0470\n",
            "Epoch 81/100\n",
            "1300/1300 [==============================] - 2s 1ms/step - loss: 0.0000e+00 - accuracy: 0.0470\n",
            "Epoch 82/100\n",
            "1300/1300 [==============================] - 2s 1ms/step - loss: 0.0000e+00 - accuracy: 0.0470\n",
            "Epoch 83/100\n",
            "1300/1300 [==============================] - 2s 2ms/step - loss: 0.0000e+00 - accuracy: 0.0470\n",
            "Epoch 84/100\n",
            "1300/1300 [==============================] - 2s 1ms/step - loss: 0.0000e+00 - accuracy: 0.0470\n",
            "Epoch 85/100\n",
            "1300/1300 [==============================] - 2s 1ms/step - loss: 0.0000e+00 - accuracy: 0.0470\n",
            "Epoch 86/100\n",
            "1300/1300 [==============================] - 2s 1ms/step - loss: 0.0000e+00 - accuracy: 0.0470\n",
            "Epoch 87/100\n",
            "1300/1300 [==============================] - 1s 1ms/step - loss: 0.0000e+00 - accuracy: 0.0470\n",
            "Epoch 88/100\n",
            "1300/1300 [==============================] - 1s 1ms/step - loss: 0.0000e+00 - accuracy: 0.0470\n",
            "Epoch 89/100\n",
            "1300/1300 [==============================] - 1s 1ms/step - loss: 0.0000e+00 - accuracy: 0.0470\n",
            "Epoch 90/100\n",
            "1300/1300 [==============================] - 1s 1ms/step - loss: 0.0000e+00 - accuracy: 0.0470\n",
            "Epoch 91/100\n",
            "1300/1300 [==============================] - 2s 1ms/step - loss: 0.0000e+00 - accuracy: 0.0470\n",
            "Epoch 92/100\n",
            "1300/1300 [==============================] - 2s 1ms/step - loss: 0.0000e+00 - accuracy: 0.0470\n",
            "Epoch 93/100\n",
            "1300/1300 [==============================] - 1s 1ms/step - loss: 0.0000e+00 - accuracy: 0.0470\n",
            "Epoch 94/100\n",
            "1300/1300 [==============================] - 1s 1ms/step - loss: 0.0000e+00 - accuracy: 0.0470\n",
            "Epoch 95/100\n",
            "1300/1300 [==============================] - 1s 1ms/step - loss: 0.0000e+00 - accuracy: 0.0470\n",
            "Epoch 96/100\n",
            "1300/1300 [==============================] - 1s 1ms/step - loss: 0.0000e+00 - accuracy: 0.0470\n",
            "Epoch 97/100\n",
            "1300/1300 [==============================] - 1s 1ms/step - loss: 0.0000e+00 - accuracy: 0.0470\n",
            "Epoch 98/100\n",
            "1300/1300 [==============================] - 1s 1ms/step - loss: 0.0000e+00 - accuracy: 0.0470\n",
            "Epoch 99/100\n",
            "1300/1300 [==============================] - 2s 1ms/step - loss: 0.0000e+00 - accuracy: 0.0470\n",
            "Epoch 100/100\n",
            "1300/1300 [==============================] - 2s 1ms/step - loss: 0.0000e+00 - accuracy: 0.0470\n"
          ]
        },
        {
          "output_type": "execute_result",
          "data": {
            "text/plain": [
              "<keras.callbacks.History at 0x7f885e763760>"
            ]
          },
          "metadata": {},
          "execution_count": 6
        }
      ]
    },
    {
      "cell_type": "code",
      "source": [
        "# evaluate the model\n",
        "loss, acc = model.evaluate(X_test, y_test, verbose=0)\n",
        "print('Test Accuracy: %.3f' % acc)\n",
        "# make a prediction\n",
        "row = [1, 29.6,\t11.3,\t80, 32.7, 1, 0, 0, 0 ]\n",
        "yhat = model.predict([row])\n",
        "print('Predicted: %s (class=%d)' % (yhat, argmax(yhat)))"
      ],
      "metadata": {
        "colab": {
          "base_uri": "https://localhost:8080/"
        },
        "id": "-ifwG5sh-AhS",
        "outputId": "64a5825e-c44b-4926-b713-7db2687859f3"
      },
      "execution_count": null,
      "outputs": [
        {
          "output_type": "stream",
          "name": "stdout",
          "text": [
            "Test Accuracy: 0.050\n",
            "1/1 [==============================] - 0s 85ms/step\n",
            "Predicted: [[1.]] (class=0)\n"
          ]
        }
      ]
    },
    {
      "cell_type": "markdown",
      "source": [
        "# Grid Search"
      ],
      "metadata": {
        "id": "P4OOYRvDC-h1"
      }
    },
    {
      "cell_type": "code",
      "source": [
        "from sklearn.model_selection import GridSearchCV\n",
        "from keras.wrappers.scikit_learn import KerasClassifier\n",
        "\n",
        "def create_model(neurons_1=1, neurons_2=1):\n",
        "    # create model\n",
        "    model = Sequential()\n",
        "    model.add(Dense(neurons_1, input_dim=9, kernel_initializer='uniform', activation='linear'))\n",
        "    model.add(Dense(neurons_2, kernel_initializer='uniform', activation='linear'))\n",
        "    model.add(Dense(1, kernel_initializer='uniform', activation='sigmoid'))\n",
        "    # Compile model\n",
        "    model.compile(loss='binary_crossentropy', optimizer='adam', metrics=['accuracy'])\n",
        "    return model\n",
        "\n",
        "model = KerasClassifier(build_fn=create_model, epochs=100, batch_size=10, verbose=0)\n",
        "\n",
        "neurons_1 = [1, 5, 10, 15, 20, 25, 30, 50, 100]\n",
        "neurons_2 = [1, 5, 10, 15, 20, 25, 30, 50, 100]\n",
        "param_grid = dict(neurons_1=neurons_1, neurons_2=neurons_2)\n",
        "\n",
        "grid = GridSearchCV(estimator=model, param_grid=param_grid, n_jobs=-1, cv=3)\n",
        "\n",
        "grid_result = grid.fit(X_train, y_train, callbacks=[cb_earlystop], validation_split=0.2)\n",
        "\n",
        "print(\"Best: %f using %s\" % (grid_result.best_score_, grid_result.best_params_))"
      ],
      "metadata": {
        "id": "nA5bh_ZWDDx8",
        "colab": {
          "base_uri": "https://localhost:8080/"
        },
        "outputId": "fc26b0c8-3d13-4f6c-f855-1d24c9b965ee"
      },
      "execution_count": null,
      "outputs": [
        {
          "output_type": "stream",
          "name": "stdout",
          "text": [
            "Epoch 11: early stopping\n",
            "Best: 0.047923 using {'neurons_1': 1, 'neurons_2': 1}\n"
          ]
        }
      ]
    },
    {
      "cell_type": "markdown",
      "source": [
        "# Despite the model's limited accuracy, it effectively demonstrates the feasibility of the concept, providing a foundation for further refinement and improvement."
      ],
      "metadata": {
        "id": "lQReIIjgakl3"
      }
    }
  ]
}